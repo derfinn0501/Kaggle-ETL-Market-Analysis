{
 "cells": [
  {
   "cell_type": "code",
   "execution_count": null,
   "id": "da276916",
   "metadata": {},
   "outputs": [],
   "source": [
    "# dependencies\n",
    "import zipfile\n",
    "import os\n",
    "import psycopg2\n",
    "import pandas as pd\n",
    "from psycopg2 import extras"
   ]
  },
  {
   "cell_type": "code",
   "execution_count": null,
   "id": "e18c0a25",
   "metadata": {},
   "outputs": [
    {
     "name": "stdout",
     "output_type": "stream",
     "text": [
      "ref                                                            title                                                   size  lastUpdated                 downloadCount  voteCount  usabilityRating  \n",
      "-------------------------------------------------------------  ------------------------------------------------  ----------  --------------------------  -------------  ---------  ---------------  \n",
      "psparks/instacart-market-basket-analysis                       Instacart Market Basket Analysis                   207073669  2017-11-20 03:08:26.960000          27871        185  0.4117647        \n",
      "yasserh/instacart-online-grocery-basket-analysis-dataset       InstaCart Online Grocery Basket Analysis Dataset   207073669  2022-01-25 16:43:37.380000          12835         82  1.0              \n",
      "thedevastator/new-whole-foods-on-sale-product-data-collection  Whole Foods Products Data                            3208860  2022-11-17 00:12:49.063000           1727         37  0.9411765        \n",
      "mohdshahnawazaadil/supermarket-superstore-dataset-bundle       Supermarket / Superstore Dataset Bundle            207298694  2024-04-02 10:25:15.103000           1887         32  1.0              \n",
      "rajkumarpandey02/complete-list-of-unicorn-companies             Complete List Of Unicorn Companies                    40859  2022-11-15 09:57:49.857000            270         22  1.0              \n",
      "viswajithkn/instacart-predict-shopping-time                    Instacart Predict Shopping Time                     12347080  2018-10-29 17:24:48.580000            656         12  0.64705884       \n",
      "brendanartley/simplifiedinstacartdata                          Simplified Instacart Market Basket Dataset         193148066  2022-04-03 14:53:59.983000            935          7  0.8235294        \n",
      "dhruvshan/instacart-stock-data-all-time                        Instacart Stock Data (All Time)                         3200  2024-05-14 15:45:36.247000             88          5  0.9411765        \n",
      "despoinapatsavoudi/instacat2assignment1                        instacat-2-assignment.1                                 3798  2021-11-21 03:26:28.063000             13          2  0.0              \n",
      "samwhitehill/instacart-training-sample                         InstaCart training sample                            1378646  2017-07-01 20:24:11.510000            232          2  0.5882353        \n",
      "ahmadhassan333/instacart                                       Instacart                                           42716362  2024-09-08 22:52:22.033000             37          2  0.1764706        \n",
      "tungbinhthuong/instacart-train-test                            instacart_train_test                               318124543  2022-07-16 06:18:45.893000             15          1  0.11764706       \n",
      "streptkinase/user-features-instacart                           user_features_instacart                              4368636  2020-08-06 05:56:24.400000             30          1  0.11764706       \n",
      "streptkinase/instacart-data-cache                              Instacart_data_cache                               428362542  2020-07-31 05:35:52.913000             31          1  0.1764706        \n",
      "emmettdoolan/instacart-mba                                     Instacart_MBA                                      207298944  2020-04-08 13:46:01.197000             80          1  0.11764706       \n",
      "rajashrideka/instacart-analysis-dataset                        Instacart_Analysis_Dataset                         249738916  2022-07-22 19:28:26.747000             43          1  0.1764706        \n",
      "nguynlonghi/instacart-100k-real                                Instacart-100k-real                                 20513802  2023-07-07 15:37:12.243000             14          1  0.29411766       \n",
      "samwhitehill/instacart-sample-labels                           Instacart sample labels                                 9445  2017-07-01 20:26:16.357000             57          1  0.4117647        \n",
      "raki21/instacart-csvs-unzipped                                 Instacart CSVs unzipped                            206958635  2024-01-12 10:07:23.267000             65          1  0.3529412        \n",
      "nguynlonghi/training-phase-instacart                           Training_phase_instacart                            34332700  2023-07-07 00:28:50.767000             12          0  0.11764706       \n"
     ]
    }
   ],
   "source": [
    "# search for instacart dataset on kaggle\n",
    "!kaggle datasets list -s \"instacart\" --sort-by votes"
   ]
  },
  {
   "cell_type": "code",
   "execution_count": null,
   "id": "a2ef7e2b",
   "metadata": {},
   "outputs": [
    {
     "name": "stdout",
     "output_type": "stream",
     "text": [
      "Dataset URL: https://www.kaggle.com/datasets/psparks/instacart-market-basket-analysis\n",
      "License(s): CC0-1.0\n",
      "instacart-market-basket-analysis.zip: Skipping, found more recently modified local copy (use --force to force download)\n"
     ]
    }
   ],
   "source": [
    "# Download dataset from Kaggle\n",
    "!kaggle datasets download psparks/instacart-market-basket-analysis -p data"
   ]
  },
  {
   "cell_type": "code",
   "execution_count": null,
   "id": "2e9fdb5d",
   "metadata": {},
   "outputs": [],
   "source": [
    "# unzip data file\n",
    "with zipfile.ZipFile(\"data/instacart-market-basket-analysis.zip\", 'r') as zip_ref:\n",
    "    zip_ref.extractall('data/')"
   ]
  }
 ],
 "metadata": {
  "language_info": {
   "name": "python"
  }
 },
 "nbformat": 4,
 "nbformat_minor": 5
}
